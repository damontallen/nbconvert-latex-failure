{
 "metadata": {
  "name": ""
 },
 "nbformat": 3,
 "nbformat_minor": 0,
 "worksheets": [
  {
   "cells": [
    {
     "cell_type": "code",
     "collapsed": false,
     "input": [
      "from IPython.core.display import Latex\n",
      "\n",
      "out = \"\"\"$$\\\\text{When examining the moment we find:}$$\n",
      "$$\\\\text{For the range 0 to 12 the following equation holds}$$\n",
      "$$x \\\\left(- 60.0 x + 720.0\\\\right)$$ \n",
      "$$\\\\text{Local minima and maxima are to be found at [0, 6.00000000000000, 12]}$$ \n",
      "$ $\n",
      "$$\\\\text{When examining the moment we find:}$$\n",
      "$$\\\\text{For the range 12 to 12 the following equation holds}$$\n",
      "$$x \\\\left(- 60.0 x + 720.0\\\\right)$$ \n",
      "$$\\\\text{Local minima and maxima are to be found at [12, 12]}$$ \n",
      "$ $ \n",
      "$$\\\\text{When examining the shear we find:}$$\n",
      "$$\\\\text{For the range 0 to 12 the following equation holds}$$\n",
      "$$- 120 x + 720.0$$ \n",
      "$$\\\\text{Local minima and maxima are to be found at [0, 12]}$$ \n",
      "$ $ \n",
      "$$\\\\text{When examining the shear we find:}$$\n",
      "$$\\\\text{For the range 12 to 12 the following equation holds}$$\n",
      "$$- 120 x + 720.0$$ \n",
      "$$\\\\text{Local minima and maxima are to be found at [12, 12]}$$ $ $ \"\"\"\n",
      "\n",
      "Latex(out)"
     ],
     "language": "python",
     "metadata": {},
     "outputs": [
      {
       "latex": [
        "$$\\text{When examining the moment we find:}$$\n",
        "$$\\text{For the range 0 to 12 the following equation holds}$$\n",
        "$$x \\left(- 60.0 x + 720.0\\right)$$ \n",
        "$$\\text{Local minima and maxima are to be found at [0, 6.00000000000000, 12]}$$ \n",
        "$ $\n",
        "$$\\text{When examining the moment we find:}$$\n",
        "$$\\text{For the range 12 to 12 the following equation holds}$$\n",
        "$$x \\left(- 60.0 x + 720.0\\right)$$ \n",
        "$$\\text{Local minima and maxima are to be found at [12, 12]}$$ \n",
        "$ $ \n",
        "$$\\text{When examining the shear we find:}$$\n",
        "$$\\text{For the range 0 to 12 the following equation holds}$$\n",
        "$$- 120 x + 720.0$$ \n",
        "$$\\text{Local minima and maxima are to be found at [0, 12]}$$ \n",
        "$ $ \n",
        "$$\\text{When examining the shear we find:}$$\n",
        "$$\\text{For the range 12 to 12 the following equation holds}$$\n",
        "$$- 120 x + 720.0$$ \n",
        "$$\\text{Local minima and maxima are to be found at [12, 12]}$$ $ $ "
       ],
       "metadata": {},
       "output_type": "pyout",
       "prompt_number": 1,
       "text": [
        "<IPython.core.display.Latex at 0x50c1690>"
       ]
      }
     ],
     "prompt_number": 1
    },
    {
     "cell_type": "code",
     "collapsed": false,
     "input": [],
     "language": "python",
     "metadata": {},
     "outputs": []
    }
   ],
   "metadata": {}
  }
 ]
}